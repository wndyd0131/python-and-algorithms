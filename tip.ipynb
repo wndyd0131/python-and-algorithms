{
 "cells": [
  {
   "cell_type": "code",
   "id": "initial_id",
   "metadata": {
    "collapsed": true,
    "ExecuteTime": {
     "end_time": "2025-04-02T14:20:02.702308Z",
     "start_time": "2025-04-02T14:20:02.681308Z"
    }
   },
   "source": [
    "from collections import Counter\n",
    "nums = [9,4,1,7,8,1,3,6,5,2]\n",
    "counter = Counter(nums)\n",
    "print(counter)"
   ],
   "outputs": [
    {
     "name": "stdout",
     "output_type": "stream",
     "text": [
      "Counter({1: 2, 9: 1, 4: 1, 7: 1, 8: 1, 3: 1, 6: 1, 5: 1, 2: 1})\n"
     ]
    }
   ],
   "execution_count": 1
  },
  {
   "metadata": {
    "jupyter": {
     "is_executing": true
    }
   },
   "cell_type": "code",
   "source": [
    "from collections import defaultdict\n",
    "d = defaultdict(int)\n",
    "print(d['a'])"
   ],
   "id": "2cef7fbba50e2c1b",
   "outputs": [],
   "execution_count": null
  },
  {
   "metadata": {
    "jupyter": {
     "is_executing": true
    }
   },
   "cell_type": "code",
   "source": [
    "a = dict()\n",
    "a['ice'] = True\n",
    "print(a)"
   ],
   "id": "68418289f52c73eb",
   "outputs": [],
   "execution_count": null
  },
  {
   "metadata": {},
   "cell_type": "code",
   "outputs": [],
   "execution_count": null,
   "source": [
    "MAP = [list(map(int, input().split())) for _ in range(int(input()))]\n",
    "print(MAP)"
   ],
   "id": "760af47bf8ee6d7f"
  },
  {
   "metadata": {},
   "cell_type": "code",
   "outputs": [],
   "execution_count": null,
   "source": [
    "input_list = [[1, 2, 3], [4, 5, 6]]\n",
    "zero_list = [[0 for _ in row] for row in input_list]\n",
    "\n",
    "n, m = 4, 4\n",
    "grid = [[0 for _ in range(n)] for _ in range(m)]"
   ],
   "id": "4e49ca8430ec208d"
  }
 ],
 "metadata": {
  "kernelspec": {
   "display_name": "Python 3",
   "language": "python",
   "name": "python3"
  },
  "language_info": {
   "codemirror_mode": {
    "name": "ipython",
    "version": 2
   },
   "file_extension": ".py",
   "mimetype": "text/x-python",
   "name": "python",
   "nbconvert_exporter": "python",
   "pygments_lexer": "ipython2",
   "version": "2.7.6"
  }
 },
 "nbformat": 4,
 "nbformat_minor": 5
}
