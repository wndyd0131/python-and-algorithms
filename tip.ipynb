{
 "cells": [
  {
   "cell_type": "code",
   "id": "initial_id",
   "metadata": {
    "collapsed": true,
    "ExecuteTime": {
     "end_time": "2025-04-02T14:20:02.702308Z",
     "start_time": "2025-04-02T14:20:02.681308Z"
    }
   },
   "source": [
    "from collections import Counter\n",
    "nums = [9,4,1,7,8,1,3,6,5,2]\n",
    "counter = Counter(nums)\n",
    "print(counter)"
   ],
   "outputs": [
    {
     "name": "stdout",
     "output_type": "stream",
     "text": [
      "Counter({1: 2, 9: 1, 4: 1, 7: 1, 8: 1, 3: 1, 6: 1, 5: 1, 2: 1})\n"
     ]
    }
   ],
   "execution_count": 1
  },
  {
   "metadata": {
    "jupyter": {
     "is_executing": true
    }
   },
   "cell_type": "code",
   "source": [
    "from collections import defaultdict\n",
    "d = defaultdict(int)\n",
    "print(d['a'])"
   ],
   "id": "2cef7fbba50e2c1b",
   "outputs": [],
   "execution_count": null
  },
  {
   "metadata": {},
   "cell_type": "code",
   "outputs": [],
   "execution_count": null,
   "source": "",
   "id": "68418289f52c73eb"
  }
 ],
 "metadata": {
  "kernelspec": {
   "display_name": "Python 3",
   "language": "python",
   "name": "python3"
  },
  "language_info": {
   "codemirror_mode": {
    "name": "ipython",
    "version": 2
   },
   "file_extension": ".py",
   "mimetype": "text/x-python",
   "name": "python",
   "nbconvert_exporter": "python",
   "pygments_lexer": "ipython2",
   "version": "2.7.6"
  }
 },
 "nbformat": 4,
 "nbformat_minor": 5
}
